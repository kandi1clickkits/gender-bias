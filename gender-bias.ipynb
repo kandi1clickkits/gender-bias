{
 "cells": [
  {
   "cell_type": "code",
   "execution_count": 1,
   "metadata": {},
   "outputs": [],
   "source": [
    "# To run this you need to have the 'genderbias' package installed\n",
    "\n",
    "from genderbias import ALL_SCANNED_DETECTORS, Document\n",
    "import json, os"
   ]
  },
  {
   "cell_type": "code",
   "execution_count": 3,
   "metadata": {},
   "outputs": [
    {
     "name": "stdout",
     "output_type": "stream",
     "text": [
      "input is read from location : D:\\kandikits\\gender-bias-master\\data\\input\\letterofRecW\n",
      "output is written to the location : D:\\kandikits\\gender-bias-master\\data\\output\\gender-biased-words.txt\n"
     ]
    }
   ],
   "source": [
    "# Document can load text inline, as shown here\n",
    "#inline_example = Document(\"I thoroughly recommend PERSON due to their extreme effort in this endeavour.\")\n",
    "input_file_location = \"data/input/letterofRecW\"\n",
    "input_file = open(input_file_location,'r',encoding='utf-8')\n",
    "text = input_file.read()\n",
    "input_file.close()\n",
    "print(\"input is read from location :\",os.path.abspath(input_file_location))\n",
    "inline_example = Document(text)\n",
    "reports_json = [detector().get_report(inline_example).to_dict() for key, detector in ALL_SCANNED_DETECTORS.items() if key in [\"FemaleDetector\",\"GenderedWordDetector\",\"MaleDetector\"]]\n",
    "#print(json.dumps(reports_json))\n",
    "out_file_location = \"data/output/gender-biased-words.txt\"\n",
    "with open(out_file_location, 'w',encoding='utf-8') as f:\n",
    "    f.write(json.dumps(reports_json))\n",
    "    print(\"output is written to the location :\",os.path.abspath(out_file_location))"
   ]
  },
  {
   "cell_type": "code",
   "execution_count": null,
   "metadata": {},
   "outputs": [],
   "source": []
  }
 ],
 "metadata": {
  "kernelspec": {
   "display_name": "Python 3 (ipykernel)",
   "language": "python",
   "name": "python3"
  },
  "language_info": {
   "codemirror_mode": {
    "name": "ipython",
    "version": 3
   },
   "file_extension": ".py",
   "mimetype": "text/x-python",
   "name": "python",
   "nbconvert_exporter": "python",
   "pygments_lexer": "ipython3",
   "version": "3.9.7"
  }
 },
 "nbformat": 4,
 "nbformat_minor": 2
}
