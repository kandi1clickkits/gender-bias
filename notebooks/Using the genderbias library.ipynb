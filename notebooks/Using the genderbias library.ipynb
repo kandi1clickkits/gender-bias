{
 "cells": [
  {
   "cell_type": "code",
   "execution_count": 1,
   "metadata": {},
   "outputs": [
    {
     "name": "stdout",
     "output_type": "stream",
     "text": [
      "{'EffortDetector': <class 'genderbias.effort.EffortDetector'>, 'PersonalLifeDetector': <class 'genderbias.personal_life.PersonalLifeDetector'>}\n"
     ]
    }
   ],
   "source": [
    "# To run this you need to have the 'genderbias' package installed\n",
    "# Since the package is not on PyPI, you will need to run 'pip -e .' from the cloned git repository to do so\n",
    "\n",
    "# Import the detectors we have available, and the Document class to load texts\n",
    "from genderbias import ALL_SCANNED_DETECTORS, Document\n",
    "# ALL_SCANNED_DETECTORS is a dictionary of classes, so remember to create one to call get_report\n",
    "print(ALL_SCANNED_DETECTORS)"
   ]
  },
  {
   "cell_type": "code",
   "execution_count": 2,
   "metadata": {},
   "outputs": [
    {
     "name": "stdout",
     "output_type": "stream",
     "text": [
      "Personal Life\n",
      " SUMMARY: [None available]\n"
     ]
    }
   ],
   "source": [
    "# Document can load text inline, as shown here\n",
    "inline_example = Document(\"I thoroughly recommend PERSON due to their extreme effort in this endeavour.\")\n",
    "# Each detector implements the get_report method, which can be called on a Document, here inline_example\n",
    "# Let's get a report for personal-life inclusions\n",
    "personal_life_report = ALL_SCANNED_DETECTORS['PersonalLifeDetector']().get_report(inline_example)\n",
    "print(personal_life_report)"
   ]
  },
  {
   "cell_type": "code",
   "execution_count": 3,
   "metadata": {},
   "outputs": [
    {
     "name": "stdout",
     "output_type": "stream",
     "text": [
      "Effort vs Accomplishment\n",
      " [2-12]: Effort vs Accomplishment: The word 'thoroughly' tends to speak about effort more than accomplishment. (Try replacing with phrasing that emphasizes accomplishment.)\n",
      " [66-75]: Effort vs Accomplishment: The word 'endeavour' tends to speak about effort more than accomplishment. (Try replacing with phrasing that emphasizes accomplishment.)\n",
      " SUMMARY: This document has too few words about concrete accomplishment.\n"
     ]
    }
   ],
   "source": [
    "# Now a report for effort vs accomplishment\n",
    "effort_report = ALL_SCANNED_DETECTORS['EffortDetector']().get_report(inline_example)\n",
    "print(effort_report)"
   ]
  },
  {
   "cell_type": "code",
   "execution_count": 4,
   "metadata": {},
   "outputs": [
    {
     "name": "stdout",
     "output_type": "stream",
     "text": [
      "Effort vs Accomplishment\n",
      " [2-12]: Effort vs Accomplishment: The word 'thoroughly' tends to speak about effort more than accomplishment. (Try replacing with phrasing that emphasizes accomplishment.)\n",
      " [66-75]: Effort vs Accomplishment: The word 'endeavour' tends to speak about effort more than accomplishment. (Try replacing with phrasing that emphasizes accomplishment.)\n",
      " SUMMARY: This document has too few words about concrete accomplishment.\n",
      "Personal Life\n",
      " SUMMARY: [None available]\n"
     ]
    }
   ],
   "source": [
    "# This approach may be easier for using all available Detectors\n",
    "reports = [str(detector().get_report(inline_example)) for detector in ALL_SCANNED_DETECTORS.values()]\n",
    "print(\"\\n\".join(reports))"
   ]
  },
  {
   "cell_type": "code",
   "execution_count": 5,
   "metadata": {},
   "outputs": [
    {
     "name": "stdout",
     "output_type": "stream",
     "text": [
      "[{'name': 'Effort vs Accomplishment', 'summary': 'This document has too few words about concrete accomplishment.', 'flags': [(2, 12, 'Effort vs Accomplishment', \"The word 'thoroughly' tends to speak about effort more than accomplishment.\", 'Try replacing with phrasing that emphasizes accomplishment.'), (66, 75, 'Effort vs Accomplishment', \"The word 'endeavour' tends to speak about effort more than accomplishment.\", 'Try replacing with phrasing that emphasizes accomplishment.')]}, {'name': 'Personal Life', 'summary': '', 'flags': []}]\n"
     ]
    }
   ],
   "source": [
    "# For using the data elsewhere, a JSON format may be easier; a Report provides 'to_dict'\n",
    "reports_json = [detector().get_report(inline_example).to_dict() for detector in ALL_SCANNED_DETECTORS.values()]\n",
    "# Just outputting the objects is reasonable...\n",
    "print(reports_json)"
   ]
  },
  {
   "cell_type": "code",
   "execution_count": 6,
   "metadata": {},
   "outputs": [
    {
     "name": "stdout",
     "output_type": "stream",
     "text": [
      "[{\"name\": \"Effort vs Accomplishment\", \"summary\": \"This document has too few words about concrete accomplishment.\", \"flags\": [[2, 12, \"Effort vs Accomplishment\", \"The word 'thoroughly' tends to speak about effort more than accomplishment.\", \"Try replacing with phrasing that emphasizes accomplishment.\"], [66, 75, \"Effort vs Accomplishment\", \"The word 'endeavour' tends to speak about effort more than accomplishment.\", \"Try replacing with phrasing that emphasizes accomplishment.\"]]}, {\"name\": \"Personal Life\", \"summary\": \"\", \"flags\": []}]\n"
     ]
    }
   ],
   "source": [
    "# ...however using the json module may be better (tuples are converted to lists)\n",
    "import json\n",
    "print(json.dumps(reports_json))"
   ]
  }
 ],
 "metadata": {
  "kernelspec": {
   "display_name": "Python 3",
   "language": "python",
   "name": "python3"
  },
  "language_info": {
   "codemirror_mode": {
    "name": "ipython",
    "version": 3
   },
   "file_extension": ".py",
   "mimetype": "text/x-python",
   "name": "python",
   "nbconvert_exporter": "python",
   "pygments_lexer": "ipython3",
   "version": "3.6.5"
  }
 },
 "nbformat": 4,
 "nbformat_minor": 2
}
